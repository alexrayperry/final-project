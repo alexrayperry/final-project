{
 "cells": [
  {
   "cell_type": "code",
   "execution_count": 1,
   "metadata": {},
   "outputs": [],
   "source": [
    "import pandas as pd"
   ]
  },
  {
   "cell_type": "code",
   "execution_count": 6,
   "metadata": {},
   "outputs": [],
   "source": [
    "file_cust = 'ecommerce_data/olist_customers_dataset.csv'\n",
    "file_geo = 'ecommerce_data/olist_geolocation_dataset.csv'\n",
    "file_items = 'ecommerce_data/olist_order_items_dataset.csv'\n",
    "file_payments = 'ecommerce_data/olist_order_payments_dataset.csv'\n",
    "file_reviews = 'ecommerce_data/olist_order_reviews_dataset.csv'\n",
    "file_orders = 'ecommerce_data/olist_orders_dataset.csv'\n",
    "file_products = 'ecommerce_data/olist_products_dataset.csv'\n",
    "file_sellers = 'ecommerce_data/olist_sellers_dataset.csv'\n",
    "file_category = 'ecommerce_data/olist_category_name_translation.csv'"
   ]
  },
  {
   "cell_type": "code",
   "execution_count": null,
   "metadata": {},
   "outputs": [],
   "source": []
  },
  {
   "cell_type": "code",
   "execution_count": null,
   "metadata": {},
   "outputs": [],
   "source": []
  },
  {
   "cell_type": "code",
   "execution_count": null,
   "metadata": {},
   "outputs": [],
   "source": []
  }
 ],
 "metadata": {
  "kernelspec": {
   "display_name": "PythonData",
   "language": "python",
   "name": "pythondata"
  },
  "language_info": {
   "codemirror_mode": {
    "name": "ipython",
    "version": 3
   },
   "file_extension": ".py",
   "mimetype": "text/x-python",
   "name": "python",
   "nbconvert_exporter": "python",
   "pygments_lexer": "ipython3",
   "version": "3.7.6"
  }
 },
 "nbformat": 4,
 "nbformat_minor": 4
}
