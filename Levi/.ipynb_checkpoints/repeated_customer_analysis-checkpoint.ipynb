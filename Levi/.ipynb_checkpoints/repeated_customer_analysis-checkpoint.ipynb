{
 "cells": [
  {
   "cell_type": "code",
   "execution_count": 7,
   "metadata": {},
   "outputs": [],
   "source": [
    "import pandas as pd\n",
    "import numpy as np\n",
    "from scipy import stats \n",
    "import os\n",
    "import matplotlib.pyplot as plt\n",
    "import seaborn as sns \n",
    "from sklearn.linear_model import LinearRegression\n",
    "from sklearn.model_selection import train_test_split\n",
    "from sklearn.cluster import KMeans\n",
    "from sklearn.preprocessing import StandardScaler\n",
    "from sklearn.preprocessing import normalize\n",
    "from sklearn.metrics import r2_score, confusion_matrix\n",
    "from sklearn.ensemble import RandomForestClassifier\n",
    "import datetime\n",
    "import random"
   ]
  },
  {
   "cell_type": "code",
   "execution_count": 10,
   "metadata": {},
   "outputs": [],
   "source": [
    "file_cust = pd.read_csv('ecommerce_data/olist_customers_dataset.csv')\n",
    "file_geo = pd.read_csv('ecommerce_data/olist_geolocation_dataset.csv')\n",
    "file_items = pd.read_csv('ecommerce_data/olist_order_items_dataset.csv')\n",
    "file_payments = pd.read_csv('ecommerce_data/olist_order_payments_dataset.csv')\n",
    "file_reviews = pd.read_csv('ecommerce_data/olist_order_reviews_dataset.csv')\n",
    "file_orders = pd.read_csv('ecommerce_data/olist_orders_dataset.csv')\n",
    "file_products = pd.read_csv('ecommerce_data/olist_products_dataset.csv')\n",
    "file_sellers = pd.read_csv('ecommerce_data/olist_sellers_dataset.csv')\n",
    "file_category = pd.read_csv('ecommerce_data/product_category_name_translation.csv')"
   ]
  },
  {
   "cell_type": "code",
   "execution_count": 12,
   "metadata": {},
   "outputs": [],
   "source": [
    "file_cust = file_cust.dropna()\n",
    "file_geo = file_geo.dropna()\n",
    "file_items = file_items.dropna()\n",
    "file_payments = file_payments.dropna()\n",
    "file_reviews = file_reviews.dropna()\n",
    "file_orders = file_orders.dropna()\n",
    "file_products = file_products.dropna()\n",
    "file_sellers = file_sellers.dropna()\n",
    "file_category = file_category.dropna()"
   ]
  },
  {
   "cell_type": "code",
   "execution_count": 13,
   "metadata": {},
   "outputs": [],
   "source": [
    "data = file_orders.merge(file_items, on='order_id',how='left')\n",
    "data = data.merge(file_payments, on='order_id',how='outer',validate='m:m')\n",
    "data = data.merge(file_reviews, on='order_id',how='outer')\n",
    "data = data.merge(file_products,on='product_id',how='outer')\n",
    "data = data.merge(file_cust,on='customer_id',how='outer')\n",
    "data = data.merge(file_sellers, on='seller_id',how='outer')\n",
    "data = data.merge(file_category, on='product_category_name',how='outer')"
   ]
  },
  {
   "cell_type": "code",
   "execution_count": 18,
   "metadata": {},
   "outputs": [],
   "source": [
    "data = data.dropna()"
   ]
  },
  {
   "cell_type": "code",
   "execution_count": 19,
   "metadata": {},
   "outputs": [
    {
     "data": {
      "text/plain": [
       "Index(['order_id', 'customer_id', 'order_status', 'order_purchase_timestamp',\n",
       "       'order_approved_at', 'order_delivered_carrier_date',\n",
       "       'order_delivered_customer_date', 'order_estimated_delivery_date',\n",
       "       'order_item_id', 'product_id', 'seller_id', 'shipping_limit_date',\n",
       "       'price', 'freight_value', 'payment_sequential', 'payment_type',\n",
       "       'payment_installments', 'payment_value', 'review_id', 'review_score',\n",
       "       'review_comment_title', 'review_comment_message',\n",
       "       'review_creation_date', 'review_answer_timestamp',\n",
       "       'product_category_name', 'product_name_lenght',\n",
       "       'product_description_lenght', 'product_photos_qty', 'product_weight_g',\n",
       "       'product_length_cm', 'product_height_cm', 'product_width_cm',\n",
       "       'customer_unique_id', 'customer_zip_code_prefix', 'customer_city',\n",
       "       'customer_state', 'seller_zip_code_prefix', 'seller_city',\n",
       "       'seller_state', 'product_category_name_english'],\n",
       "      dtype='object')"
      ]
     },
     "execution_count": 19,
     "metadata": {},
     "output_type": "execute_result"
    }
   ],
   "source": [
    "data.columns"
   ]
  },
  {
   "cell_type": "code",
   "execution_count": null,
   "metadata": {},
   "outputs": [],
   "source": []
  }
 ],
 "metadata": {
  "kernelspec": {
   "display_name": "PythonData",
   "language": "python",
   "name": "pythondata"
  },
  "language_info": {
   "codemirror_mode": {
    "name": "ipython",
    "version": 3
   },
   "file_extension": ".py",
   "mimetype": "text/x-python",
   "name": "python",
   "nbconvert_exporter": "python",
   "pygments_lexer": "ipython3",
   "version": "3.7.6"
  }
 },
 "nbformat": 4,
 "nbformat_minor": 4
}
