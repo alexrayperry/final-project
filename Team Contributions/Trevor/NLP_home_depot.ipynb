{
  "nbformat": 4,
  "nbformat_minor": 0,
  "metadata": {
    "colab": {
      "name": "NLP_home_depot.ipynb",
      "provenance": [],
      "collapsed_sections": []
    },
    "kernelspec": {
      "name": "python3",
      "display_name": "Python 3"
    }
  },
  "cells": [
    {
      "cell_type": "code",
      "metadata": {
        "id": "emXhJzf0nYks",
        "colab_type": "code",
        "colab": {
          "base_uri": "https://localhost:8080/",
          "height": 125
        },
        "outputId": "4644640d-88d5-4f9f-e6c2-6be8bd9cea46"
      },
      "source": [
        "!pip install sklearn --upgrade\n",
        "!pip install joblib\n",
        "# Data preprocessing, math and plotting\n",
        "import os\n",
        "import numpy as np \n",
        "import pandas as pd \n",
        "from scipy import stats \n",
        "import matplotlib.pyplot as plt\n",
        "import seaborn as sns \n",
        "\n",
        "# ML \n",
        "import sklearn\n",
        "from sklearn.decomposition import TruncatedSVD\n",
        "from sklearn.feature_extraction.text import TfidfVectorizer, CountVectorizer\n",
        "from sklearn.neighbors import NearestNeighbors\n",
        "from sklearn.cluster import KMeans\n",
        "from sklearn.metrics import adjusted_rand_score\n",
        "from sklearn.linear_model import LinearRegression\n",
        "from sklearn.model_selection import train_test_split\n",
        "from sklearn.preprocessing import StandardScaler\n",
        "from sklearn.preprocessing import normalize\n",
        "from sklearn.metrics import r2_score, confusion_matrix\n",
        "from sklearn.ensemble import RandomForestClassifier\n",
        "import datetime\n",
        "import random\n",
        "\n"
      ],
      "execution_count": null,
      "outputs": [
        {
          "output_type": "stream",
          "text": [
            "Requirement already up-to-date: sklearn in /usr/local/lib/python3.6/dist-packages (0.0)\n",
            "Requirement already satisfied, skipping upgrade: scikit-learn in /usr/local/lib/python3.6/dist-packages (from sklearn) (0.22.2.post1)\n",
            "Requirement already satisfied, skipping upgrade: joblib>=0.11 in /usr/local/lib/python3.6/dist-packages (from scikit-learn->sklearn) (0.16.0)\n",
            "Requirement already satisfied, skipping upgrade: numpy>=1.11.0 in /usr/local/lib/python3.6/dist-packages (from scikit-learn->sklearn) (1.18.5)\n",
            "Requirement already satisfied, skipping upgrade: scipy>=0.17.0 in /usr/local/lib/python3.6/dist-packages (from scikit-learn->sklearn) (1.4.1)\n",
            "Requirement already satisfied: joblib in /usr/local/lib/python3.6/dist-packages (0.16.0)\n"
          ],
          "name": "stdout"
        }
      ]
    },
    {
      "cell_type": "code",
      "metadata": {
        "id": "LqXNwriap-CY",
        "colab_type": "code",
        "colab": {
          "base_uri": "https://localhost:8080/",
          "height": 222
        },
        "outputId": "3245071d-1540-4b33-ada6-751ddd9f9134"
      },
      "source": [
        "from google.colab import drive \n",
        "drive.mount('/content/gdrive')\n",
        "\n",
        "home_depot_products = pd.read_csv(\"gdrive/My Drive/home_depot_product_descriptions.csv\")\n",
        "home_depot_products.head()"
      ],
      "execution_count": null,
      "outputs": [
        {
          "output_type": "stream",
          "text": [
            "Drive already mounted at /content/gdrive; to attempt to forcibly remount, call drive.mount(\"/content/gdrive\", force_remount=True).\n"
          ],
          "name": "stdout"
        },
        {
          "output_type": "execute_result",
          "data": {
            "text/html": [
              "<div>\n",
              "<style scoped>\n",
              "    .dataframe tbody tr th:only-of-type {\n",
              "        vertical-align: middle;\n",
              "    }\n",
              "\n",
              "    .dataframe tbody tr th {\n",
              "        vertical-align: top;\n",
              "    }\n",
              "\n",
              "    .dataframe thead th {\n",
              "        text-align: right;\n",
              "    }\n",
              "</style>\n",
              "<table border=\"1\" class=\"dataframe\">\n",
              "  <thead>\n",
              "    <tr style=\"text-align: right;\">\n",
              "      <th></th>\n",
              "      <th>product_uid</th>\n",
              "      <th>product_description</th>\n",
              "    </tr>\n",
              "  </thead>\n",
              "  <tbody>\n",
              "    <tr>\n",
              "      <th>0</th>\n",
              "      <td>100001</td>\n",
              "      <td>Not only do angles make joints stronger, they ...</td>\n",
              "    </tr>\n",
              "    <tr>\n",
              "      <th>1</th>\n",
              "      <td>100002</td>\n",
              "      <td>BEHR Premium Textured DECKOVER is an innovativ...</td>\n",
              "    </tr>\n",
              "    <tr>\n",
              "      <th>2</th>\n",
              "      <td>100003</td>\n",
              "      <td>Classic architecture meets contemporary design...</td>\n",
              "    </tr>\n",
              "    <tr>\n",
              "      <th>3</th>\n",
              "      <td>100004</td>\n",
              "      <td>The Grape Solar 265-Watt Polycrystalline PV So...</td>\n",
              "    </tr>\n",
              "    <tr>\n",
              "      <th>4</th>\n",
              "      <td>100005</td>\n",
              "      <td>Update your bathroom with the Delta Vero Singl...</td>\n",
              "    </tr>\n",
              "  </tbody>\n",
              "</table>\n",
              "</div>"
            ],
            "text/plain": [
              "   product_uid                                product_description\n",
              "0       100001  Not only do angles make joints stronger, they ...\n",
              "1       100002  BEHR Premium Textured DECKOVER is an innovativ...\n",
              "2       100003  Classic architecture meets contemporary design...\n",
              "3       100004  The Grape Solar 265-Watt Polycrystalline PV So...\n",
              "4       100005  Update your bathroom with the Delta Vero Singl..."
            ]
          },
          "metadata": {
            "tags": []
          },
          "execution_count": 14
        }
      ]
    },
    {
      "cell_type": "code",
      "metadata": {
        "id": "a0NRclUNsNh4",
        "colab_type": "code",
        "colab": {
          "base_uri": "https://localhost:8080/",
          "height": 35
        },
        "outputId": "1f258d55-5d32-4d25-fd52-4a54b658e6ee"
      },
      "source": [
        "home_depot_products_df = home_depot_products.dropna()\n",
        "home_depot_products_df.shape"
      ],
      "execution_count": null,
      "outputs": [
        {
          "output_type": "execute_result",
          "data": {
            "text/plain": [
              "(124428, 2)"
            ]
          },
          "metadata": {
            "tags": []
          },
          "execution_count": 15
        }
      ]
    },
    {
      "cell_type": "code",
      "metadata": {
        "id": "xirx1MChp-Ew",
        "colab_type": "code",
        "colab": {
          "base_uri": "https://localhost:8080/",
          "height": 233
        },
        "outputId": "abc8a115-10aa-48df-ff0e-090d1bb76b6e"
      },
      "source": [
        "home_depot_products_set = home_depot_products_df.head(500)\n",
        "home_depot_products_set.iloc[:,1]"
      ],
      "execution_count": null,
      "outputs": [
        {
          "output_type": "execute_result",
          "data": {
            "text/plain": [
              "0      Not only do angles make joints stronger, they ...\n",
              "1      BEHR Premium Textured DECKOVER is an innovativ...\n",
              "2      Classic architecture meets contemporary design...\n",
              "3      The Grape Solar 265-Watt Polycrystalline PV So...\n",
              "4      Update your bathroom with the Delta Vero Singl...\n",
              "                             ...                        \n",
              "495    Add an updated look to your transitional decor...\n",
              "496    The BLACK+DECKER EM1700 corded electric lawn m...\n",
              "497    Wilsonart's 48 in. x 96 in. Breccia Nouvelle L...\n",
              "498    The new and improved roundup 2 gal. Multi-Purp...\n",
              "499    Krosswood Doors dress up both the entrance int...\n",
              "Name: product_description, Length: 500, dtype: object"
            ]
          },
          "metadata": {
            "tags": []
          },
          "execution_count": 16
        }
      ]
    },
    {
      "cell_type": "code",
      "metadata": {
        "id": "CLPOoBC9p-Gx",
        "colab_type": "code",
        "colab": {
          "base_uri": "https://localhost:8080/",
          "height": 53
        },
        "outputId": "12a320c9-597a-4789-a949-3533b1885846"
      },
      "source": [
        "# Feature extraction from product descriptions\n",
        "# Converting the text in product description into numerical data for analysis\n",
        "\n",
        "vectorizer = TfidfVectorizer(stop_words='english')\n",
        "X1 = vectorizer.fit_transform(home_depot_products_set[\"product_description\"])\n",
        "X1"
      ],
      "execution_count": null,
      "outputs": [
        {
          "output_type": "execute_result",
          "data": {
            "text/plain": [
              "<500x8932 sparse matrix of type '<class 'numpy.float64'>'\n",
              "\twith 34817 stored elements in Compressed Sparse Row format>"
            ]
          },
          "metadata": {
            "tags": []
          },
          "execution_count": 17
        }
      ]
    },
    {
      "cell_type": "code",
      "metadata": {
        "id": "Qiap88F1wlDH",
        "colab_type": "code",
        "colab": {
          "base_uri": "https://localhost:8080/",
          "height": 265
        },
        "outputId": "359b5179-3004-416a-d45c-b1235216adfc"
      },
      "source": [
        "# Visualizing product clusters in subset of data\n",
        "# Fitting K-Means to the dataset\n",
        "X=X1\n",
        "kmeans = KMeans(n_clusters = 10, init = 'k-means++')\n",
        "y_kmeans = kmeans.fit_predict(X)\n",
        "plt.plot(y_kmeans, \".\")\n",
        "plt.show()"
      ],
      "execution_count": null,
      "outputs": [
        {
          "output_type": "display_data",
          "data": {
            "image/png": "[encoded data removed]",
            "text/plain": [
              "<Figure size 432x288 with 1 Axes>"
            ]
          },
          "metadata": {
            "tags": [],
            "needs_background": "light"
          }
        }
      ]
    },
    {
      "cell_type": "code",
      "metadata": {
        "id": "q1AKyPv6wsTX",
        "colab_type": "code",
        "colab": {
          "base_uri": "https://localhost:8080/",
          "height": 1000
        },
        "outputId": "96658abf-6ada-4ac0-9c58-71891550e2f4"
      },
      "source": [
        "# Top words in each cluster based on product description\n",
        "true_k = 10\n",
        "\n",
        "model = KMeans(n_clusters=true_k, init='k-means++', max_iter=100, n_init=1)\n",
        "model.fit(X1)\n",
        "\n",
        "print(\"Top terms per cluster:\")\n",
        "order_centroids = model.cluster_centers_.argsort()[:, ::-1]\n",
        "terms = vectorizer.get_feature_names()\n",
        "for i in range(true_k):\n",
        "    print(\"Cluster %d:\" % i),\n",
        "    for ind in order_centroids[i, :10]:\n",
        "        print(' %s' % terms[ind]),\n",
        "    print"
      ],
      "execution_count": null,
      "outputs": [
        {
          "output_type": "stream",
          "text": [
            "Top terms per cluster:\n",
            "Cluster 0:\n",
            " air\n",
            " power\n",
            " cooling\n",
            " volt\n",
            " unit\n",
            " amp\n",
            " lithium\n",
            " control\n",
            " 20\n",
            " protection\n",
            "Cluster 1:\n",
            " ft\n",
            " 100\n",
            " vary\n",
            " board\n",
            " rug\n",
            " product\n",
            " painting\n",
            " 24\n",
            " painted\n",
            " 10\n",
            "Cluster 2:\n",
            " steel\n",
            " capacity\n",
            " brush\n",
            " wheels\n",
            " swivel\n",
            " construction\n",
            " tool\n",
            " lb\n",
            " features\n",
            " lbs\n",
            "Cluster 3:\n",
            " helps\n",
            " insulation\n",
            " snow\n",
            " cover\n",
            " cutting\n",
            " easy\n",
            " metal\n",
            " design\n",
            " free\n",
            " included\n",
            "Cluster 4:\n",
            " oven\n",
            " cycle\n",
            " cooking\n",
            " cu\n",
            " wash\n",
            " control\n",
            " options\n",
            " ft\n",
            " storage\n",
            " drawer\n",
            "Cluster 5:\n",
            " door\n",
            " wood\n",
            " natural\n",
            " proposition\n",
            " nbsp\n",
            " residents\n",
            " california\n",
            " 65\n",
            " bamboo\n",
            " concrete\n",
            "Cluster 6:\n",
            " patio\n",
            " collection\n",
            " frame\n",
            " outdoor\n",
            " set\n",
            " dining\n",
            " bronze\n",
            " chairs\n",
            " fabric\n",
            " cushions\n",
            "Cluster 7:\n",
            " lbs\n",
            " light\n",
            " storage\n",
            " wall\n",
            " finish\n",
            " shelves\n",
            " use\n",
            " commercial\n",
            " easy\n",
            " unit\n",
            "Cluster 8:\n",
            " water\n",
            " handle\n",
            " toilet\n",
            " easy\n",
            " tank\n",
            " spray\n",
            " gal\n",
            " head\n",
            " flush\n",
            " heater\n",
            "Cluster 9:\n",
            " installation\n",
            " use\n",
            " 36\n",
            " fan\n",
            " tile\n",
            " wood\n",
            " offers\n",
            " home\n",
            " design\n",
            " easy\n"
          ],
          "name": "stdout"
        }
      ]
    },
    {
      "cell_type": "code",
      "metadata": {
        "id": "rmaXPHXRwsVW",
        "colab_type": "code",
        "colab": {
          "base_uri": "https://localhost:8080/",
          "height": 53
        },
        "outputId": "bf35d7ac-a4dc-4a0d-909f-e1e61584558d"
      },
      "source": [
        "# Predicting clusters based on key search words\n",
        "\n",
        "# Predict cluster of \"air\"\n",
        "print(\"Cluster ID:\")\n",
        "Y = vectorizer.transform([\"air\"])\n",
        "prediction = model.predict(Y)\n",
        "print(prediction)\n"
      ],
      "execution_count": null,
      "outputs": [
        {
          "output_type": "stream",
          "text": [
            "Cluster ID:\n",
            "[0]\n"
          ],
          "name": "stdout"
        }
      ]
    },
    {
      "cell_type": "code",
      "metadata": {
        "id": "OHUAGjAfwsXC",
        "colab_type": "code",
        "colab": {
          "base_uri": "https://localhost:8080/",
          "height": 53
        },
        "outputId": "8eb8196c-47a4-4d95-94c5-34e364f11f59"
      },
      "source": [
        "# Predict cluster of \"steel\"\n",
        "print(\"Cluster ID:\")\n",
        "Y = vectorizer.transform([\"steel\"])\n",
        "prediction = model.predict(Y)\n",
        "print(prediction)"
      ],
      "execution_count": null,
      "outputs": [
        {
          "output_type": "stream",
          "text": [
            "Cluster ID:\n",
            "[2]\n"
          ],
          "name": "stdout"
        }
      ]
    },
    {
      "cell_type": "code",
      "metadata": {
        "id": "4kJ9q3zSp-JL",
        "colab_type": "code",
        "colab": {}
      },
      "source": [
        "# Visualize clusters\n",
        "from sklearn.manifold import TSNE\n",
        "from sklearn.decomposition import TruncatedSVD"
      ],
      "execution_count": null,
      "outputs": []
    },
    {
      "cell_type": "code",
      "metadata": {
        "id": "bQmpo8cavz4o",
        "colab_type": "code",
        "colab": {}
      },
      "source": [
        "home_depot_products_set.to_dict('dict')\n",
        "# tfs = vectorizer.fit_transform(home_depot_products_set.values())\n",
        "\n",
        "# k = 50\n",
        "\n",
        "# tfs_reduced = TruncatedSVD(n_components=k, random_state=0).fit_transform(tfs)\n",
        "print(home_depot_products_set)"
      ],
      "execution_count": null,
      "outputs": []
    },
    {
      "cell_type": "code",
      "metadata": {
        "id": "98GoR6_Sv17_",
        "colab_type": "code",
        "colab": {}
      },
      "source": [
        "tfs_embedded = TSNE(n_components=2, perplexity=40, verbose=2).fit_transform(tfs_reduced)\n"
      ],
      "execution_count": null,
      "outputs": []
    },
    {
      "cell_type": "code",
      "metadata": {
        "id": "ilV4Mg3Sv3gJ",
        "colab_type": "code",
        "colab": {}
      },
      "source": [
        "fig = plt.figure(figsize = (10, 10))\n",
        "ax = plt.axes()\n",
        "plt.scatter(tfs_embedded[:, 0], tfs_embedded[:, 1], marker = \"x\", c = km.labels_)\n",
        "plt.show()"
      ],
      "execution_count": null,
      "outputs": []
    }
  ]
}